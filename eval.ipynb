{
 "cells": [
  {
   "attachments": {},
   "cell_type": "markdown",
   "metadata": {},
   "source": [
    "## imports"
   ]
  },
  {
   "cell_type": "code",
   "execution_count": 72,
   "metadata": {},
   "outputs": [],
   "source": [
    "import chex\n",
    "import gymnax\n",
    "import imageio\n",
    "import jax\n",
    "import matplotlib.pyplot as plt\n",
    "import numpy as np\n",
    "import os\n",
    "import pdb\n",
    "import pickle\n",
    "from ppo import ActorCritic, Transition\n",
    "from typing import List, Any\n",
    "from utils import load_checkpoint\n",
    "from wrappers import LogWrapper, FlattenObservationWrapper"
   ]
  },
  {
   "attachments": {},
   "cell_type": "markdown",
   "metadata": {},
   "source": [
    "## set-up"
   ]
  },
  {
   "cell_type": "code",
   "execution_count": 64,
   "metadata": {},
   "outputs": [
    {
     "name": "stdout",
     "output_type": "stream",
     "text": [
      "Loading FourRooms-misc environment.\n",
      "Initializing agent from checkpoint.\n"
     ]
    }
   ],
   "source": [
    "\n",
    "######################\n",
    "# settings\n",
    "run_name = \"ppo_4rooms_det\" # \"ppo_\"cartpole\n",
    "save_step = 49648 #49660  # 498724 # 49660\n",
    "checkpoint = f\"checkpoints/{run_name}_{save_step}.flax\"\n",
    "with open(f\"configs/{run_name}_config.pkl\", \"rb\") as f:\n",
    "  config = pickle.load(f)\n",
    "config[\"NUM_ENVS\"] = 1\n",
    "# environment setup\n",
    "print(f\"Loading {config['ENV_NAME']} environment.\")\n",
    "env, env_params = gymnax.make(config[\"ENV_NAME\"])\n",
    "env = FlattenObservationWrapper(env)\n",
    "env = LogWrapper(env)\n",
    "# agent setup\n",
    "print(f\"Initializing agent from checkpoint.\")\n",
    "agent = ActorCritic(env.action_space(env_params).n, activation=config[\"ACTIVATION\"])\n",
    "checkpoint_dict = load_checkpoint(checkpoint, agent)\n",
    "agent_params = checkpoint_dict[\"params\"]"
   ]
  },
  {
   "attachments": {},
   "cell_type": "markdown",
   "metadata": {},
   "source": [
    "## run"
   ]
  },
  {
   "cell_type": "code",
   "execution_count": null,
   "metadata": {},
   "outputs": [],
   "source": [
    "######################\n",
    "# Run evaluation\n",
    "\n",
    "# INIT ENV\n",
    "rng = jax.random.PRNGKey(30)\n",
    "rng, _rng = jax.random.split(rng)\n",
    "reset_rng = jax.random.split(_rng, config[\"NUM_ENVS\"])\n",
    "obsv, env_state = jax.vmap(env.reset, in_axes=(0, None))(reset_rng, env_params)\n",
    "\n",
    "# COLLECT TRAJECTORIES\n",
    "def _env_step(runner_state, unused):\n",
    "    agent_params, env_state, last_obs, rng = runner_state\n",
    "\n",
    "    # SELECT ACTION\n",
    "    rng, _rng = jax.random.split(rng)\n",
    "    pi, value = agent.apply(agent_params, last_obs)\n",
    "    action = pi.sample(seed=_rng)\n",
    "    log_prob = pi.log_prob(action)\n",
    "\n",
    "    # STEP ENV\n",
    "    rng, _rng = jax.random.split(rng)\n",
    "    rng_step = jax.random.split(_rng, config[\"NUM_ENVS\"])\n",
    "    obsv, env_state, reward, done, info = jax.vmap(\n",
    "        env.step, in_axes=(0, 0, 0, None)\n",
    "    )(rng_step, env_state, action, env_params)\n",
    "    transition = Transition(\n",
    "        done, action, value, reward, log_prob, last_obs, info\n",
    "    )\n",
    "    runner_state = (agent_params, env_state, obsv, rng)\n",
    "    return runner_state, transition\n",
    "\n",
    "runner_state = (agent_params, env_state, obsv, _rng)\n",
    "\n",
    "# returns final runner_state tuple, and traj_batch is a Transition containting\n",
    "# action, obs, reward, done, log_prob, value, info, each of which is\n",
    "# (T, NUM_ENVS, ...)\n",
    "# info is dict_keys(['discount', 'returned_episode', 'returned_episode_lengths', \n",
    "#                    'returned_episode_returns', 'timestep'])\n",
    "num_steps = 500 # config[\"NUM_STEPS\"]\n",
    "runner_state, traj_batch = jax.lax.scan(\n",
    "    _env_step, runner_state, None, num_steps\n",
    ")"
   ]
  },
  {
   "cell_type": "code",
   "execution_count": 74,
   "metadata": {},
   "outputs": [
    {
     "data": {
      "image/png": "[encoded data removed]",
      "text/plain": [
       "<Figure size 500x200 with 1 Axes>"
      ]
     },
     "metadata": {},
     "output_type": "display_data"
    }
   ],
   "source": [
    "fig, ax = plt.subplots(1, 1, figsize=(5, 2))\n",
    "axs = [ax]\n",
    "axs[0].plot(np.array(traj_batch.reward).astype(int).flatten())\n",
    "axs[0].set_xlabel(\"time steps\")\n",
    "axs[0].set_ylabel(\"reward\")\n",
    "axs[0].grid(False)\n",
    "plt.show()"
   ]
  },
  {
   "attachments": {},
   "cell_type": "markdown",
   "metadata": {},
   "source": [
    "## utilities"
   ]
  },
  {
   "cell_type": "code",
   "execution_count": 61,
   "metadata": {},
   "outputs": [],
   "source": [
    "def generate_env_states(traj_obs: chex.Array, env_state_cls: Any) -> List[Any]:\n",
    "  # Generates a list of env states created from the trajectory observations.\n",
    "  # Assumes n_envs == 1.\n",
    "  traj_obs = traj_obs[:, 0, :]  # [T, 1, ...] -> [T, ...]\n",
    "  T, D = traj_obs.shape\n",
    "  env_states = []\n",
    "  for t in range(T):\n",
    "    if \"rooms\" in str(env_state_cls).lower():\n",
    "      pos, goal = traj_obs[t, :D//2], traj_obs[t, D//2:]\n",
    "      env_states.append(env_state_cls(pos, goal, t))\n",
    "    elif \"cartpole\" in str(env_state_cls).lower():\n",
    "      x, x_dot, theta, theta_dot = traj_obs[t, :]\n",
    "      env_states.append(env_state_cls(x, x_dot, theta, theta_dot, t))\n",
    "    else:\n",
    "      raise NotImplementedError(\"Env class not supported - \" + str(env_state_cls).lower())\n",
    "\n",
    "  return env_states\n",
    "\n",
    "def unvectorize_env_state(env_state):\n",
    "  # un-vectorize environment state (assumes n_envs == 1)\n",
    "  new_attributes = []\n",
    "  for _, v in vars(env_state.env_state).items():\n",
    "    new_attributes.append(v[0])\n",
    "\n",
    "  unvectorized_state = type(env_state.env_state)(*new_attributes)\n",
    "  return unvectorized_state\n",
    "\n",
    "base_env = lambda env: env._env._env\n",
    "\n",
    "# make a gif\n",
    "def make_gif(gif_name: str, env: Any, env_params: Any, env_states: List[Any], frame_duration: float = 0.5) -> List[Any]:\n",
    "  filenames = []\n",
    "  if not hasattr(base_env(env), \"render\"):\n",
    "    raise NotImplementedError(\"Env does not have render method.\")\n",
    "  for t, env_state in enumerate(env_states):\n",
    "    fig, _ = base_env(env).render(env_state, env_params)\n",
    "    fig.canvas.draw()\n",
    "    filename = f\"temp_frame_{t}.png\"\n",
    "    plt.savefig(filename)\n",
    "    filenames.append(filename)\n",
    "    # plt.show()\n",
    "    plt.close(fig)\n",
    "\n",
    "  # Build GIF\n",
    "  with imageio.get_writer(f\"gifs/{gif_name}\", mode='I', duration=frame_duration) as writer:\n",
    "    for filename in filenames:\n",
    "      image = imageio.imread(filename)\n",
    "      writer.append_data(image)\n",
    "\n",
    "  # Remove files\n",
    "  for filename in set(filenames):\n",
    "    os.remove(filename)"
   ]
  },
  {
   "attachments": {},
   "cell_type": "markdown",
   "metadata": {},
   "source": [
    "## plot stuff"
   ]
  },
  {
   "cell_type": "code",
   "execution_count": 67,
   "metadata": {},
   "outputs": [],
   "source": [
    "traj_env_states = generate_env_states(traj_batch.obs, type(env_state.env_state))"
   ]
  },
  {
   "cell_type": "code",
   "execution_count": 68,
   "metadata": {},
   "outputs": [
    {
     "name": "stderr",
     "output_type": "stream",
     "text": [
      "/var/folders/fz/q04kwq096ts6wb65tk0dbk8h0000gn/T/ipykernel_21123/686593735.py:47: DeprecationWarning: Starting with ImageIO v3 the behavior of this function will switch to that of iio.v3.imread. To keep the current behavior (and make this warning disappear) use `import imageio.v2 as imageio` or call `imageio.v2.imread` directly.\n",
      "  image = imageio.imread(filename)\n"
     ]
    }
   ],
   "source": [
    "make_gif(\"ppo_4rooms.gif\", env, env_params, traj_env_states[:100], frame_duration=0.3)"
   ]
  },
  {
   "cell_type": "code",
   "execution_count": 26,
   "metadata": {},
   "outputs": [
    {
     "data": {
      "text/plain": [
       "(<Figure size 640x480 with 1 Axes>, <AxesSubplot: >)"
      ]
     },
     "execution_count": 26,
     "metadata": {},
     "output_type": "execute_result"
    },
    {
     "data": {
      "image/png": "[encoded data removed]",
      "text/plain": [
       "<Figure size 640x480 with 1 Axes>"
      ]
     },
     "metadata": {},
     "output_type": "display_data"
    }
   ],
   "source": [
    "%matplotlib inline\n",
    "unvectorized_env_state = unvectorize_env_state(env_state)\n",
    "base_env(env).render(unvectorized_env_state, env_params)\n"
   ]
  }
 ],
 "metadata": {
  "kernelspec": {
   "display_name": "jax_env_real",
   "language": "python",
   "name": "jax_env_real"
  },
  "language_info": {
   "codemirror_mode": {
    "name": "ipython",
    "version": 3
   },
   "file_extension": ".py",
   "mimetype": "text/x-python",
   "name": "python",
   "nbconvert_exporter": "python",
   "pygments_lexer": "ipython3",
   "version": "3.8.3"
  },
  "orig_nbformat": 4
 },
 "nbformat": 4,
 "nbformat_minor": 2
}
